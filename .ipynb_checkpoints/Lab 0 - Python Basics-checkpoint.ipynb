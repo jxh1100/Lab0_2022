{
 "cells": [
  {
   "cell_type": "markdown",
   "metadata": {},
   "source": [
    "# Python Introduction\n",
    "This notebook goes over the fundamentals of python and jupyter notebooks.\n",
    "\n",
    "To run a cell, click the >|Run button above or press CTRL + Enter"
   ]
  },
  {
   "cell_type": "code",
   "execution_count": 2,
   "metadata": {},
   "outputs": [],
   "source": [
    "# You can import libraries using the import keyword. You can rename the libraries with the as keyword\n",
    "import numpy as np\n",
    "import pandas as pd"
   ]
  },
  {
   "cell_type": "markdown",
   "metadata": {},
   "source": [
    "## Python Operators\n",
    "These operators are similar to most programming languages. \n",
    "\n",
    "In Jupyter Notebooks, you can use the print or display functions to print to the terminal."
   ]
  },
  {
   "cell_type": "code",
   "execution_count": 3,
   "metadata": {},
   "outputs": [
    {
     "name": "stdout",
     "output_type": "stream",
     "text": [
      "2\n"
     ]
    },
    {
     "data": {
      "text/plain": [
       "6"
      ]
     },
     "metadata": {},
     "output_type": "display_data"
    },
    {
     "data": {
      "text/plain": [
       "10.5"
      ]
     },
     "metadata": {},
     "output_type": "display_data"
    }
   ],
   "source": [
    "print(1 + 1)\n",
    "display(2 * 3)\n",
    "\n",
    "num = 8.0\n",
    "num += 2.5\n",
    "display(num)"
   ]
  },
  {
   "cell_type": "code",
   "execution_count": 4,
   "metadata": {},
   "outputs": [
    {
     "name": "stdout",
     "output_type": "stream",
     "text": [
      "False\n",
      "True\n",
      "False\n",
      "True\n"
     ]
    }
   ],
   "source": [
    "# Boolean operators\n",
    "print(1 == 0)\n",
    "print(not (1 == 0))\n",
    "print((2==2) and (2==1))\n",
    "print((2==2) or (2==1))"
   ]
  },
  {
   "cell_type": "markdown",
   "metadata": {},
   "source": [
    "# Strings\n",
    "Python has built-in string types and overloaded operators for concatenation"
   ]
  },
  {
   "cell_type": "code",
   "execution_count": 5,
   "metadata": {},
   "outputs": [
    {
     "name": "stdout",
     "output_type": "stream",
     "text": [
      "biorobotics\n"
     ]
    }
   ],
   "source": [
    "print('bio' + 'robotics')"
   ]
  },
  {
   "cell_type": "code",
   "execution_count": 6,
   "metadata": {},
   "outputs": [
    {
     "name": "stdout",
     "output_type": "stream",
     "text": [
      "BIOROBOTICS\n"
     ]
    }
   ],
   "source": [
    "# There are also built-in methods for string manipulation\n",
    "print('biorobotics'.upper())"
   ]
  },
  {
   "cell_type": "code",
   "execution_count": 9,
   "metadata": {},
   "outputs": [
    {
     "name": "stdout",
     "output_type": "stream",
     "text": [
      "biorobotics\n",
      "11\n"
     ]
    }
   ],
   "source": [
    "# you can store a string in a variable for easier manipulation\n",
    "course = 'BioRobotics'\n",
    "print(course.lower())\n",
    "\n",
    "# the len() function returns the length of a datastructure\n",
    "print(len(course))"
   ]
  },
  {
   "cell_type": "code",
   "execution_count": 8,
   "metadata": {},
   "outputs": [
    {
     "ename": "NameError",
     "evalue": "name 'course' is not defined",
     "output_type": "error",
     "traceback": [
      "\u001b[1;31m---------------------------------------------------------------------------\u001b[0m",
      "\u001b[1;31mNameError\u001b[0m                                 Traceback (most recent call last)",
      "\u001b[1;32m~\\AppData\\Local\\Temp/ipykernel_4912/2918311085.py\u001b[0m in \u001b[0;36m<module>\u001b[1;34m\u001b[0m\n\u001b[0;32m      1\u001b[0m \u001b[1;31m# You can also use the in keyword to check if a datastructure contains something\u001b[0m\u001b[1;33m\u001b[0m\u001b[1;33m\u001b[0m\u001b[1;33m\u001b[0m\u001b[0m\n\u001b[1;32m----> 2\u001b[1;33m \u001b[0mprint\u001b[0m\u001b[1;33m(\u001b[0m\u001b[1;34m'Robotics'\u001b[0m \u001b[1;32min\u001b[0m \u001b[0mcourse\u001b[0m\u001b[1;33m)\u001b[0m \u001b[1;31m# this will return false, due to the incorrect captilization\u001b[0m\u001b[1;33m\u001b[0m\u001b[1;33m\u001b[0m\u001b[0m\n\u001b[0m\u001b[0;32m      3\u001b[0m \u001b[0mprint\u001b[0m\u001b[1;33m(\u001b[0m\u001b[1;34m'robotics'\u001b[0m \u001b[1;32min\u001b[0m \u001b[0mcourse\u001b[0m\u001b[1;33m.\u001b[0m\u001b[0mlower\u001b[0m\u001b[1;33m(\u001b[0m\u001b[1;33m)\u001b[0m\u001b[1;33m)\u001b[0m\u001b[1;33m\u001b[0m\u001b[1;33m\u001b[0m\u001b[0m\n",
      "\u001b[1;31mNameError\u001b[0m: name 'course' is not defined"
     ]
    }
   ],
   "source": [
    "# You can also use the in keyword to check if a datastructure contains something\n",
    "print('robotics' in course) # this will return false, due to the incorrect captilization\n",
    "print('robotics' in course.lower())"
   ]
  },
  {
   "cell_type": "markdown",
   "metadata": {},
   "source": [
    "# Lists\n",
    "Lists store a sequence of mutable items"
   ]
  },
  {
   "cell_type": "code",
   "execution_count": 10,
   "metadata": {},
   "outputs": [],
   "source": [
    "fruits = ['apple', 'orange', 'pear', 'banana']"
   ]
  },
  {
   "cell_type": "markdown",
   "metadata": {},
   "source": [
    "## Question:\n",
    "### What do you think fruits[0] will print out? What about fruits[-1] and fruits[-2]?"
   ]
  },
  {
   "cell_type": "code",
   "execution_count": 14,
   "metadata": {},
   "outputs": [
    {
     "name": "stdout",
     "output_type": "stream",
     "text": [
      "apple\n",
      "banana\n",
      "pear\n"
     ]
    }
   ],
   "source": [
    "print (fruits[0])\n",
    "#It will print out apple\n",
    "print(fruits[-1])\n",
    "#banana\n",
    "print (fruits[-2])\n",
    "#pear"
   ]
  },
  {
   "cell_type": "code",
   "execution_count": 15,
   "metadata": {},
   "outputs": [
    {
     "name": "stdout",
     "output_type": "stream",
     "text": [
      "['apple', 'orange', 'pear', 'banana', 'kiwi', 'strawberry']\n"
     ]
    }
   ],
   "source": [
    "# You can also add lists together\n",
    "otherFruits = ['kiwi', 'strawberry']\n",
    "print(fruits + otherFruits)"
   ]
  },
  {
   "cell_type": "markdown",
   "metadata": {},
   "source": [
    "Python lists also have built-in methods.\n",
    "## Question:\n",
    "### What does fruits.pop() return? What happens when you print(fruits) after fruit.pop()? What does fruit.reverse() do?\n",
    "\n",
    "We can also index multiple adjacent elements using the slice operator."
   ]
  },
  {
   "cell_type": "code",
   "execution_count": 20,
   "metadata": {},
   "outputs": [
    {
     "name": "stdout",
     "output_type": "stream",
     "text": [
      "banana\n",
      "None\n",
      "['pear', 'orange', 'apple']\n"
     ]
    }
   ],
   "source": [
    "fruits = ['apple', 'orange', 'pear', 'banana'] #had to recreate the list since I run the program too many times\n",
    "print(fruits.pop()) #it will pop out the last item in the list\n",
    "print(fruits.reverse()) #it reverses the orger of the list\n",
    "print(fruits)"
   ]
  },
  {
   "cell_type": "code",
   "execution_count": 21,
   "metadata": {},
   "outputs": [
    {
     "name": "stdout",
     "output_type": "stream",
     "text": [
      "['pear', 'orange']\n",
      "['pear', 'orange', 'apple']\n",
      "['apple']\n",
      "3\n"
     ]
    }
   ],
   "source": [
    "print(fruits[0:2])\n",
    "print(fruits[:3])\n",
    "print(fruits[2:])\n",
    "print(len(fruits))"
   ]
  },
  {
   "cell_type": "code",
   "execution_count": 22,
   "metadata": {},
   "outputs": [
    {
     "name": "stdout",
     "output_type": "stream",
     "text": [
      "3\n",
      "c\n",
      "[['a', 'b'], [1, 2, 3], ['one', 'two', 'three']]\n"
     ]
    }
   ],
   "source": [
    "# Items stored in lists can be any Python Datatype.\n",
    "lstOfLsts = [['a','b','c'],[1,2,3],['one','two','three']]\n",
    "print(lstOfLsts[1][2])\n",
    "print(lstOfLsts[0].pop())\n",
    "print(lstOfLsts)"
   ]
  },
  {
   "cell_type": "markdown",
   "metadata": {},
   "source": [
    "# Tuples\n",
    "A data structure similar to the list is the tuple, which is like a list except that it is immutable once it is created (i.e. you cannot change its content once created). Note that tuples are surrounded with parentheses while lists have square brackets."
   ]
  },
  {
   "cell_type": "code",
   "execution_count": 61,
   "metadata": {},
   "outputs": [],
   "source": [
    "pair = [(3,5), (4,10)]"
   ]
  },
  {
   "cell_type": "markdown",
   "metadata": {},
   "source": [
    "## Question\n",
    "### What does pair[0] return?\n",
    "\n",
    "If you know the size of a tuple, you can store its values into variables."
   ]
  },
  {
   "cell_type": "code",
   "execution_count": 64,
   "metadata": {},
   "outputs": [
    {
     "data": {
      "text/plain": [
       "(4, 10)"
      ]
     },
     "execution_count": 64,
     "metadata": {},
     "output_type": "execute_result"
    }
   ],
   "source": [
    "pair[0] #it returns 3\n",
    "pair[1] \n",
    "#pair[2] #this gives an error"
   ]
  },
  {
   "cell_type": "code",
   "execution_count": 28,
   "metadata": {},
   "outputs": [
    {
     "name": "stdout",
     "output_type": "stream",
     "text": [
      "3\n",
      "5\n"
     ]
    }
   ],
   "source": [
    "x,y = pair\n",
    "print(x)\n",
    "print(y)"
   ]
  },
  {
   "cell_type": "code",
   "execution_count": 29,
   "metadata": {},
   "outputs": [
    {
     "ename": "TypeError",
     "evalue": "'tuple' object does not support item assignment",
     "output_type": "error",
     "traceback": [
      "\u001b[1;31m---------------------------------------------------------------------------\u001b[0m",
      "\u001b[1;31mTypeError\u001b[0m                                 Traceback (most recent call last)",
      "\u001b[1;32m~\\AppData\\Local\\Temp/ipykernel_4912/1547049388.py\u001b[0m in \u001b[0;36m<module>\u001b[1;34m\u001b[0m\n\u001b[0;32m      1\u001b[0m \u001b[1;31m# You cannot assign values in a tuple\u001b[0m\u001b[1;33m\u001b[0m\u001b[1;33m\u001b[0m\u001b[1;33m\u001b[0m\u001b[0m\n\u001b[1;32m----> 2\u001b[1;33m \u001b[0mpair\u001b[0m\u001b[1;33m[\u001b[0m\u001b[1;36m1\u001b[0m\u001b[1;33m]\u001b[0m \u001b[1;33m=\u001b[0m \u001b[1;36m6\u001b[0m \u001b[1;31m# returns typeerror\u001b[0m\u001b[1;33m\u001b[0m\u001b[1;33m\u001b[0m\u001b[0m\n\u001b[0m",
      "\u001b[1;31mTypeError\u001b[0m: 'tuple' object does not support item assignment"
     ]
    }
   ],
   "source": [
    "# You cannot assign values in a tuple\n",
    "pair[1] = 6 # returns typeerror"
   ]
  },
  {
   "cell_type": "markdown",
   "metadata": {},
   "source": [
    "# Dictionaries\n",
    "The last built-in data structure is the dictionary which stores a map from one type of object (the key) to another (the value). The key must be an immutable type (string, number, or tuple). The value can be any Python data type. \n",
    "\n",
    "Note: In the example below, the printed order of the keys returned by Python could be different than shown below. The reason is that unlike lists which have a fixed ordering, a dictionary is simply a hash table for which there is no fixed ordering of the keys (like HashMaps in Java). The order of the keys depends on how exactly the hashing algorithm maps keys to buckets, and will usually seem arbitrary. Your code should not rely on key ordering, and you should not be surprised if even a small modification to how your code uses a dictionary results in a new key ordering."
   ]
  },
  {
   "cell_type": "code",
   "execution_count": 30,
   "metadata": {},
   "outputs": [
    {
     "name": "stdout",
     "output_type": "stream",
     "text": [
      "56.0\n"
     ]
    }
   ],
   "source": [
    "studentIds = {'knuth': 42.0, 'turing': 56.0, 'nash': 92.0 }\n",
    "print(studentIds['turing'])"
   ]
  },
  {
   "cell_type": "code",
   "execution_count": 31,
   "metadata": {},
   "outputs": [
    {
     "name": "stdout",
     "output_type": "stream",
     "text": [
      "{'knuth': 42.0, 'turing': 56.0, 'nash': 'ninety-two'}\n"
     ]
    }
   ],
   "source": [
    "# Dictionaries support item assignment\n",
    "studentIds['nash'] = 'ninety-two'\n",
    "print(studentIds)"
   ]
  },
  {
   "cell_type": "code",
   "execution_count": 32,
   "metadata": {},
   "outputs": [
    {
     "name": "stdout",
     "output_type": "stream",
     "text": [
      "dict_keys(['knuth', 'turing', 'nash'])\n",
      "dict_values([42.0, 56.0, 'ninety-two'])\n"
     ]
    }
   ],
   "source": [
    "# You can see the current keys and items in a dictionary using built-in methods\n",
    "print(studentIds.keys())\n",
    "print(studentIds.values())"
   ]
  },
  {
   "cell_type": "markdown",
   "metadata": {},
   "source": [
    "# Python Control Structures\n",
    "\n",
    "One nice thing about python is that it does not need to iterate through lists using numbers."
   ]
  },
  {
   "cell_type": "code",
   "execution_count": 33,
   "metadata": {},
   "outputs": [
    {
     "name": "stdout",
     "output_type": "stream",
     "text": [
      "apples for sale\n",
      "oranges for sale\n",
      "pears for sale\n",
      "bananas for sale\n"
     ]
    }
   ],
   "source": [
    "fruits = ['apples','oranges','pears','bananas']\n",
    "for fruit in fruits:\n",
    "    print(fruit + ' for sale')"
   ]
  },
  {
   "cell_type": "code",
   "execution_count": 36,
   "metadata": {},
   "outputs": [
    {
     "name": "stdout",
     "output_type": "stream",
     "text": [
      "apples are too expensive!\n",
      "oranges cost 1.500000 a pound\n",
      "pears cost 1.750000 a pound\n"
     ]
    }
   ],
   "source": [
    "# We can do the same for dictionaries using a built-in method\n",
    "fruitPrices = {'apples': 2.00, 'oranges': 1.50, 'pears': 1.75}\n",
    "for fruit, price in fruitPrices.items():    \n",
    "    if price < 2.00:        \n",
    "        print ('%s cost %f a pound' % (fruit, price)) #first % is the fruit, second %f is the price in float  \n",
    "    else:        \n",
    "        print (fruit + ' are too expensive!')"
   ]
  },
  {
   "cell_type": "markdown",
   "metadata": {},
   "source": [
    "# Functions\n",
    "You can define your own functions using the def keyword"
   ]
  },
  {
   "cell_type": "code",
   "execution_count": 40,
   "metadata": {},
   "outputs": [
    {
     "name": "stdout",
     "output_type": "stream",
     "text": [
      "That'll be 8.000000 please\n",
      "Sorry we don't have pineapple\n",
      "That'll be 10.500000 please\n"
     ]
    }
   ],
   "source": [
    "# We can initialize variables inside a function call, such as fruitPrices\n",
    "def buyFruit(fruit, numPounds, \n",
    "             fruitPrices = {'apples':2.00, 'oranges': 1.50, 'pears': 1.75}):    \n",
    "    if fruit not in fruitPrices:    # Note the not in keyword    \n",
    "        print (\"Sorry we don't have %s\" % (fruit))    \n",
    "    else:        \n",
    "        cost = fruitPrices[fruit] * numPounds        \n",
    "        print (\"That'll be %f please\" % (cost))\n",
    "        \n",
    "buyFruit('apples', 4)\n",
    "buyFruit('pineapple',5)\n",
    "buyFruit('pears',6)"
   ]
  },
  {
   "cell_type": "markdown",
   "metadata": {},
   "source": [
    "# Object Basics\n",
    "An object encapsulates data and provides functions for interacting with that data.\n",
    "\n",
    "Note: Global class variables/methods use the self parameter. If we do not use the self parameter, the other class methods would not be able to access the value.\n",
    "\n",
    "All methods have self as the first parameter"
   ]
  },
  {
   "cell_type": "code",
   "execution_count": 47,
   "metadata": {},
   "outputs": [],
   "source": [
    "class FruitShop:\n",
    "    # Classes always have an __init__ function\n",
    "    def __init__(self, name, fruitPrices):\n",
    "        self.name = name\n",
    "        self.fruitPrices = fruitPrices\n",
    "        print('Welcome to the %s fruit shop' %(name))\n",
    "        \n",
    "    def getCostPerPound(self, fruit):\n",
    "        if fruit not in self.fruitPrices:\n",
    "            print('Sorry, we do not carry %s.' %(fruit))\n",
    "            return None\n",
    "        return self.fruitPrices[fruit]\n",
    "    \n",
    "    def getName(self):\n",
    "        return self.name\n",
    "    \n",
    "    def getPriceOfOrder(self, orderList):\n",
    "        # orderList is a list of (fruit, numPounds) tuples\n",
    "        self.orderList= [orderList]\n",
    "        print(orderList)\n",
    "        totalcost=0.0\n",
    "        # finish writing code here\n",
    "        for fruit in orderList:\n",
    "            #we need to access the list of tuples\n",
    "            #print(fruit) #getting the fruit name and its price in each loop. \n",
    "            fruitname = fruit[0]\n",
    "            #print(fruitname)\n",
    "            numPound = fruit[1]\n",
    "            #print(numPound) \n",
    "            #print(fruitPrices\n",
    "            if fruitname in fruitPrices:         \n",
    "                cost= fruitPrices[fruitname] * numPound\n",
    "                print(cost)\n",
    "                totalcost = totalcost+cost\n",
    "                \n",
    "        return totalcost"
   ]
  },
  {
   "cell_type": "markdown",
   "metadata": {},
   "source": [
    "## Question:\n",
    "### The above code is incomplete. Finish the getPriceOfOrder class method."
   ]
  },
  {
   "cell_type": "markdown",
   "metadata": {},
   "source": [
    "Run the code below to see how to use objects."
   ]
  },
  {
   "cell_type": "code",
   "execution_count": 48,
   "metadata": {},
   "outputs": [
    {
     "name": "stdout",
     "output_type": "stream",
     "text": [
      "Welcome to the the Tiger fruit shop\n",
      "[('apples', 2), ('kiwi', 5), ('oranges', 5)]\n",
      "['apples', 'apples']\n"
     ]
    },
    {
     "ename": "TypeError",
     "evalue": "unsupported operand type(s) for +: 'float' and 'list'",
     "output_type": "error",
     "traceback": [
      "\u001b[1;31m---------------------------------------------------------------------------\u001b[0m",
      "\u001b[1;31mTypeError\u001b[0m                                 Traceback (most recent call last)",
      "\u001b[1;32m~\\AppData\\Local\\Temp/ipykernel_8544/3086880937.py\u001b[0m in \u001b[0;36m<module>\u001b[1;34m\u001b[0m\n\u001b[0;32m      6\u001b[0m \u001b[0mmyList\u001b[0m \u001b[1;33m=\u001b[0m \u001b[1;33m[\u001b[0m\u001b[1;33m(\u001b[0m\u001b[1;34m'apples'\u001b[0m\u001b[1;33m,\u001b[0m \u001b[1;36m2\u001b[0m\u001b[1;33m)\u001b[0m\u001b[1;33m,\u001b[0m \u001b[1;33m(\u001b[0m\u001b[1;34m'kiwi'\u001b[0m\u001b[1;33m,\u001b[0m \u001b[1;36m5\u001b[0m\u001b[1;33m)\u001b[0m\u001b[1;33m,\u001b[0m \u001b[1;33m(\u001b[0m\u001b[1;34m'oranges'\u001b[0m\u001b[1;33m,\u001b[0m \u001b[1;36m5\u001b[0m\u001b[1;33m)\u001b[0m\u001b[1;33m]\u001b[0m\u001b[1;33m\u001b[0m\u001b[1;33m\u001b[0m\u001b[0m\n\u001b[0;32m      7\u001b[0m \u001b[1;33m\u001b[0m\u001b[0m\n\u001b[1;32m----> 8\u001b[1;33m \u001b[0mprint\u001b[0m\u001b[1;33m(\u001b[0m\u001b[0mRITShop\u001b[0m\u001b[1;33m.\u001b[0m\u001b[0mgetPriceOfOrder\u001b[0m\u001b[1;33m(\u001b[0m\u001b[0mmyList\u001b[0m\u001b[1;33m)\u001b[0m\u001b[1;33m)\u001b[0m \u001b[1;31m# Notice that kiwi is not in the fruit prices.\u001b[0m\u001b[1;33m\u001b[0m\u001b[1;33m\u001b[0m\u001b[0m\n\u001b[0m\u001b[0;32m      9\u001b[0m \u001b[1;33m\u001b[0m\u001b[0m\n\u001b[0;32m     10\u001b[0m \u001b[1;31m#Your code is correct, if the below line returns true.\u001b[0m\u001b[1;33m\u001b[0m\u001b[1;33m\u001b[0m\u001b[1;33m\u001b[0m\u001b[0m\n",
      "\u001b[1;32m~\\AppData\\Local\\Temp/ipykernel_8544/847609743.py\u001b[0m in \u001b[0;36mgetPriceOfOrder\u001b[1;34m(self, orderList)\u001b[0m\n\u001b[0;32m     32\u001b[0m                 \u001b[0mcost\u001b[0m\u001b[1;33m=\u001b[0m \u001b[1;33m[\u001b[0m\u001b[0mfruitname\u001b[0m\u001b[1;33m]\u001b[0m \u001b[1;33m*\u001b[0m \u001b[0mnumPound\u001b[0m\u001b[1;33m\u001b[0m\u001b[1;33m\u001b[0m\u001b[0m\n\u001b[0;32m     33\u001b[0m                 \u001b[0mprint\u001b[0m\u001b[1;33m(\u001b[0m\u001b[0mcost\u001b[0m\u001b[1;33m)\u001b[0m\u001b[1;33m\u001b[0m\u001b[1;33m\u001b[0m\u001b[0m\n\u001b[1;32m---> 34\u001b[1;33m                 \u001b[0mtotalcost\u001b[0m \u001b[1;33m=\u001b[0m \u001b[0mtotalcost\u001b[0m\u001b[1;33m+\u001b[0m\u001b[0mcost\u001b[0m\u001b[1;33m\u001b[0m\u001b[1;33m\u001b[0m\u001b[0m\n\u001b[0m\u001b[0;32m     35\u001b[0m \u001b[1;33m\u001b[0m\u001b[0m\n\u001b[0;32m     36\u001b[0m         \u001b[1;32mreturn\u001b[0m \u001b[0mtotalcost\u001b[0m\u001b[1;33m\u001b[0m\u001b[1;33m\u001b[0m\u001b[0m\n",
      "\u001b[1;31mTypeError\u001b[0m: unsupported operand type(s) for +: 'float' and 'list'"
     ]
    }
   ],
   "source": [
    "shopName = 'the Tiger'\n",
    "fruitPrices = {'apples': 1.00, 'oranges': 1.50, 'pears': 1.75}\n",
    "RITShop = FruitShop(shopName, fruitPrices)\n",
    "applePrice = RITShop.getCostPerPound('apples')\n",
    "\n",
    "myList = [('apples', 2), ('kiwi', 5), ('oranges', 5)]\n",
    "\n",
    "print(RITShop.getPriceOfOrder(myList)) # Notice that kiwi is not in the fruit prices.\n",
    "\n",
    "#Your code is correct, if the below line returns true.\n",
    "display(9.5 == RITShop.getPriceOfOrder(myList))\n",
    "\n"
   ]
  },
  {
   "cell_type": "code",
   "execution_count": null,
   "metadata": {},
   "outputs": [],
   "source": []
  },
  {
   "cell_type": "code",
   "execution_count": null,
   "metadata": {},
   "outputs": [],
   "source": []
  },
  {
   "cell_type": "code",
   "execution_count": null,
   "metadata": {},
   "outputs": [],
   "source": []
  },
  {
   "cell_type": "code",
   "execution_count": null,
   "metadata": {},
   "outputs": [],
   "source": []
  }
 ],
 "metadata": {
  "kernelspec": {
   "display_name": "Python 3 (ipykernel)",
   "language": "python",
   "name": "python3"
  },
  "language_info": {
   "codemirror_mode": {
    "name": "ipython",
    "version": 3
   },
   "file_extension": ".py",
   "mimetype": "text/x-python",
   "name": "python",
   "nbconvert_exporter": "python",
   "pygments_lexer": "ipython3",
   "version": "3.7.9"
  }
 },
 "nbformat": 4,
 "nbformat_minor": 2
}
